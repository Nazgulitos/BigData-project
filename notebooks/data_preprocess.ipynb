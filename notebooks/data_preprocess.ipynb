{
 "cells": [
  {
   "cell_type": "markdown",
   "id": "6c794271",
   "metadata": {},
   "source": [
    "### Data Preprocessing (Stage 1)\n",
    "\n",
    "This notebook is used to experiment and identify the raw data preprocessing."
   ]
  },
  {
   "cell_type": "markdown",
   "id": "af56d982",
   "metadata": {},
   "source": [
    "#### Data Reading"
   ]
  },
  {
   "cell_type": "code",
   "execution_count": 1,
   "id": "fbb408d9",
   "metadata": {},
   "outputs": [
    {
     "name": "stderr",
     "output_type": "stream",
     "text": [
      "/var/folders/5q/07dc8q6x3j507dkxbtmm2_2r0000gn/T/ipykernel_6066/1910553143.py:3: DtypeWarning: Columns (19) have mixed types. Specify dtype option on import or set low_memory=False.\n",
      "  df = pd.read_csv(\"../data/combine_files.csv\")\n"
     ]
    }
   ],
   "source": [
    "import pandas as pd\n",
    "\n",
    "df = pd.read_csv(\"../data/combine_files.csv\")"
   ]
  },
  {
   "cell_type": "markdown",
   "id": "15b8d4f5",
   "metadata": {},
   "source": [
    "#### Data Analysis"
   ]
  },
  {
   "cell_type": "code",
   "execution_count": 4,
   "id": "bf87d0c2",
   "metadata": {},
   "outputs": [
    {
     "data": {
      "text/plain": [
       "Cancelled\n",
       "0.0    18240587\n",
       "1.0      265138\n",
       "Name: count, dtype: int64"
      ]
     },
     "execution_count": 4,
     "metadata": {},
     "output_type": "execute_result"
    }
   ],
   "source": [
    "df.Cancelled.value_counts()"
   ]
  },
  {
   "cell_type": "markdown",
   "id": "097b151b",
   "metadata": {},
   "source": [
    "We will work on Classification task whether the flight is cancelled or not, but as you can see the \"Cancelled\" column is too imbalanced, therefore we decided to take only 600k rows of data: 265138 rows where Cancelled = 1, and rest is 0."
   ]
  },
  {
   "cell_type": "markdown",
   "id": "be127541",
   "metadata": {},
   "source": [
    "Deal with data imbalance"
   ]
  },
  {
   "cell_type": "code",
   "execution_count": 2,
   "id": "d1720356",
   "metadata": {},
   "outputs": [],
   "source": [
    "# Separate the two classes\n",
    "cancelled_1 = df[df['Cancelled'] == 1.0]\n",
    "cancelled_0 = df[df['Cancelled'] == 0.0].sample(\n",
    "    n=600000 - len(cancelled_1), random_state=42)\n",
    "\n",
    "# Combine them\n",
    "df_balanced = pd.concat([cancelled_1, cancelled_0])\n",
    "\n",
    "# Shuffle the resulting DataFrame\n",
    "df_balanced = df_balanced.sample(\n",
    "    frac=1, random_state=42).reset_index(drop=True)"
   ]
  },
  {
   "cell_type": "code",
   "execution_count": 6,
   "id": "95da2195",
   "metadata": {},
   "outputs": [
    {
     "data": {
      "text/plain": [
       "Cancelled\n",
       "0.0    334862\n",
       "1.0    265138\n",
       "Name: count, dtype: int64"
      ]
     },
     "execution_count": 6,
     "metadata": {},
     "output_type": "execute_result"
    }
   ],
   "source": [
    "df_balanced.Cancelled.value_counts()"
   ]
  },
  {
   "cell_type": "markdown",
   "id": "4bcde509",
   "metadata": {},
   "source": [
    "Now, the data is good!"
   ]
  },
  {
   "cell_type": "markdown",
   "id": "f02a7074",
   "metadata": {},
   "source": [
    "#### Let's look at other columns"
   ]
  },
  {
   "cell_type": "code",
   "execution_count": 3,
   "id": "f483df8d",
   "metadata": {},
   "outputs": [
    {
     "name": "stdout",
     "output_type": "stream",
     "text": [
      "<class 'pandas.core.frame.DataFrame'>\n",
      "RangeIndex: 600000 entries, 0 to 599999\n",
      "Data columns (total 26 columns):\n",
      " #   Column             Non-Null Count   Dtype  \n",
      "---  ------             --------------   -----  \n",
      " 0   Year               600000 non-null  int64  \n",
      " 1   Month              600000 non-null  int64  \n",
      " 2   DayofMonth         600000 non-null  int64  \n",
      " 3   DayOfWeek          600000 non-null  int64  \n",
      " 4   DepTime            343919 non-null  float64\n",
      " 5   CRSDepTime         600000 non-null  int64  \n",
      " 6   ArrTime            334740 non-null  float64\n",
      " 7   CRSArrTime         600000 non-null  int64  \n",
      " 8   ActualElapsedTime  334032 non-null  float64\n",
      " 9   CRSElapsedTime     599984 non-null  float64\n",
      " 10  AirTime            334032 non-null  float64\n",
      " 11  ArrDelay           333989 non-null  float64\n",
      " 12  DepDelay           343631 non-null  float64\n",
      " 13  Origin             600000 non-null  object \n",
      " 14  Dest               600000 non-null  object \n",
      " 15  Distance           600000 non-null  float64\n",
      " 16  TaxiIn             334740 non-null  float64\n",
      " 17  TaxiOut            336607 non-null  float64\n",
      " 18  Cancelled          600000 non-null  float64\n",
      " 19  CancellationCode   265138 non-null  object \n",
      " 20  Diverted           600000 non-null  float64\n",
      " 21  CarrierDelay       61162 non-null   float64\n",
      " 22  WeatherDelay       61162 non-null   float64\n",
      " 23  NASDelay           61162 non-null   float64\n",
      " 24  SecurityDelay      61162 non-null   float64\n",
      " 25  LateAircraftDelay  61162 non-null   float64\n",
      "dtypes: float64(17), int64(6), object(3)\n",
      "memory usage: 119.0+ MB\n"
     ]
    }
   ],
   "source": [
    "df_balanced.info()"
   ]
  },
  {
   "cell_type": "markdown",
   "id": "686958e9",
   "metadata": {},
   "source": [
    "#### Lets convert time into datetime"
   ]
  },
  {
   "cell_type": "code",
   "execution_count": 2,
   "id": "fac329ec",
   "metadata": {},
   "outputs": [],
   "source": [
    "import pandas as pd\n",
    "import numpy as np\n",
    "from datetime import time\n",
    "\n",
    "df_final = df.copy()\n",
    "\n",
    "# Convert hhmm time columns to datetime.time format for SQL\n",
    "\n",
    "\n",
    "def hhmm_to_time(x):\n",
    "    if pd.isnull(x):\n",
    "        return None\n",
    "    x = int(x)\n",
    "    h = x // 100\n",
    "    m = x % 100\n",
    "    if h < 24 and m < 60:\n",
    "        return time(hour=h, minute=m)\n",
    "    return None\n",
    "\n",
    "\n",
    "for col in ['DepTime', 'CRSDepTime', 'ArrTime', 'CRSArrTime']:\n",
    "    df_final[col] = df_final[col].apply(hhmm_to_time)\n",
    "\n",
    "# df_final = df_final.astype(object).where(pd.notnull(df_final), None)\n",
    "\n",
    "# Drop leakage or post-cancellation columns for Cancelled classification (will be used further)\n",
    "# leakage_cols = [\n",
    "#     'ActualElapsedTime', 'AirTime', 'ArrDelay', 'DepDelay',\n",
    "#     'TaxiIn', 'TaxiOut', 'CarrierDelay', 'WeatherDelay',\n",
    "#     'NASDelay', 'SecurityDelay', 'LateAircraftDelay',\n",
    "#     'CancellationCode'\n",
    "# ]\n",
    "# df_final.drop(columns=leakage_cols, inplace=True)\n",
    "\n",
    "# Impute missing numeric values with median\n",
    "# for col in df_final.select_dtypes(include=[np.number]).columns:\n",
    "#     if df_final[col].isnull().any():\n",
    "#         df_final[col].fillna(df_final[col].median(), inplace=True)\n",
    "\n",
    "# Fill missing categorical values with None (to become NULL in SQL)\n",
    "# for col in df_final.select_dtypes(include=['object']).columns:\n",
    "#     df_final[col] = df_final[col].where(df_final[col].notna(), None)"
   ]
  },
  {
   "cell_type": "code",
   "execution_count": 5,
   "id": "fb3da1ab",
   "metadata": {},
   "outputs": [],
   "source": [
    "df_final.to_csv(\"preprocessed_combine_files2.csv\", index=False)"
   ]
  },
  {
   "cell_type": "code",
   "execution_count": 5,
   "id": "62babf8b",
   "metadata": {},
   "outputs": [
    {
     "data": {
      "application/vnd.microsoft.datawrangler.viewer.v0+json": {
       "columns": [
        {
         "name": "index",
         "rawType": "int64",
         "type": "integer"
        },
        {
         "name": "Year",
         "rawType": "int64",
         "type": "integer"
        },
        {
         "name": "Month",
         "rawType": "int64",
         "type": "integer"
        },
        {
         "name": "DayofMonth",
         "rawType": "int64",
         "type": "integer"
        },
        {
         "name": "DayOfWeek",
         "rawType": "int64",
         "type": "integer"
        },
        {
         "name": "DepTime",
         "rawType": "object",
         "type": "unknown"
        },
        {
         "name": "CRSDepTime",
         "rawType": "object",
         "type": "unknown"
        },
        {
         "name": "ArrTime",
         "rawType": "object",
         "type": "unknown"
        },
        {
         "name": "CRSArrTime",
         "rawType": "object",
         "type": "unknown"
        },
        {
         "name": "ActualElapsedTime",
         "rawType": "float64",
         "type": "float"
        },
        {
         "name": "CRSElapsedTime",
         "rawType": "float64",
         "type": "float"
        },
        {
         "name": "AirTime",
         "rawType": "float64",
         "type": "float"
        },
        {
         "name": "ArrDelay",
         "rawType": "float64",
         "type": "float"
        },
        {
         "name": "DepDelay",
         "rawType": "float64",
         "type": "float"
        },
        {
         "name": "Origin",
         "rawType": "object",
         "type": "string"
        },
        {
         "name": "Dest",
         "rawType": "object",
         "type": "string"
        },
        {
         "name": "Distance",
         "rawType": "float64",
         "type": "float"
        },
        {
         "name": "TaxiIn",
         "rawType": "float64",
         "type": "float"
        },
        {
         "name": "TaxiOut",
         "rawType": "float64",
         "type": "float"
        },
        {
         "name": "Cancelled",
         "rawType": "float64",
         "type": "float"
        },
        {
         "name": "CancellationCode",
         "rawType": "object",
         "type": "unknown"
        },
        {
         "name": "Diverted",
         "rawType": "float64",
         "type": "float"
        },
        {
         "name": "CarrierDelay",
         "rawType": "float64",
         "type": "float"
        },
        {
         "name": "WeatherDelay",
         "rawType": "float64",
         "type": "float"
        },
        {
         "name": "NASDelay",
         "rawType": "float64",
         "type": "float"
        },
        {
         "name": "SecurityDelay",
         "rawType": "float64",
         "type": "float"
        },
        {
         "name": "LateAircraftDelay",
         "rawType": "float64",
         "type": "float"
        }
       ],
       "conversionMethod": "pd.DataFrame",
       "ref": "5383afb7-1ed3-4a74-99f1-384fa7caf152",
       "rows": [
        [
         "0",
         "2016",
         "1",
         "19",
         "2",
         null,
         "14:05:00",
         null,
         "15:35:00",
         null,
         "90.0",
         null,
         null,
         null,
         "SAN",
         "SFO",
         "447.0",
         null,
         null,
         "1.0",
         "C",
         "0.0",
         null,
         null,
         null,
         null,
         null
        ],
        [
         "1",
         "2016",
         "8",
         "22",
         "1",
         null,
         "18:50:00",
         null,
         "19:59:00",
         null,
         "69.0",
         null,
         null,
         null,
         "ACV",
         "SFO",
         "250.0",
         null,
         null,
         "1.0",
         "B",
         "0.0",
         null,
         null,
         null,
         null,
         null
        ],
        [
         "2",
         "2018",
         "11",
         "5",
         "1",
         "09:49:00",
         "09:45:00",
         "11:01:00",
         "11:01:00",
         "72.0",
         "76.0",
         "50.0",
         "0.0",
         "4.0",
         "SAN",
         "FAT",
         "314.0",
         "7.0",
         "15.0",
         "0.0",
         null,
         "0.0",
         null,
         null,
         null,
         null,
         null
        ],
        [
         "3",
         "2016",
         "5",
         "20",
         "5",
         null,
         "12:31:00",
         null,
         "13:45:00",
         null,
         "74.0",
         null,
         null,
         null,
         "SBA",
         "SFO",
         "262.0",
         null,
         null,
         "1.0",
         "B",
         "0.0",
         null,
         null,
         null,
         null,
         null
        ],
        [
         "4",
         "2016",
         "9",
         "7",
         "3",
         "16:00:00",
         "16:11:00",
         "18:06:00",
         "18:02:00",
         "126.0",
         "111.0",
         "73.0",
         "4.0",
         "-11.0",
         "MCI",
         "DFW",
         "460.0",
         "35.0",
         "18.0",
         "0.0",
         null,
         "0.0",
         null,
         null,
         null,
         null,
         null
        ]
       ],
       "shape": {
        "columns": 26,
        "rows": 5
       }
      },
      "text/html": [
       "<div>\n",
       "<style scoped>\n",
       "    .dataframe tbody tr th:only-of-type {\n",
       "        vertical-align: middle;\n",
       "    }\n",
       "\n",
       "    .dataframe tbody tr th {\n",
       "        vertical-align: top;\n",
       "    }\n",
       "\n",
       "    .dataframe thead th {\n",
       "        text-align: right;\n",
       "    }\n",
       "</style>\n",
       "<table border=\"1\" class=\"dataframe\">\n",
       "  <thead>\n",
       "    <tr style=\"text-align: right;\">\n",
       "      <th></th>\n",
       "      <th>Year</th>\n",
       "      <th>Month</th>\n",
       "      <th>DayofMonth</th>\n",
       "      <th>DayOfWeek</th>\n",
       "      <th>DepTime</th>\n",
       "      <th>CRSDepTime</th>\n",
       "      <th>ArrTime</th>\n",
       "      <th>CRSArrTime</th>\n",
       "      <th>ActualElapsedTime</th>\n",
       "      <th>CRSElapsedTime</th>\n",
       "      <th>...</th>\n",
       "      <th>TaxiIn</th>\n",
       "      <th>TaxiOut</th>\n",
       "      <th>Cancelled</th>\n",
       "      <th>CancellationCode</th>\n",
       "      <th>Diverted</th>\n",
       "      <th>CarrierDelay</th>\n",
       "      <th>WeatherDelay</th>\n",
       "      <th>NASDelay</th>\n",
       "      <th>SecurityDelay</th>\n",
       "      <th>LateAircraftDelay</th>\n",
       "    </tr>\n",
       "  </thead>\n",
       "  <tbody>\n",
       "    <tr>\n",
       "      <th>0</th>\n",
       "      <td>2016</td>\n",
       "      <td>1</td>\n",
       "      <td>19</td>\n",
       "      <td>2</td>\n",
       "      <td>None</td>\n",
       "      <td>14:05:00</td>\n",
       "      <td>None</td>\n",
       "      <td>15:35:00</td>\n",
       "      <td>NaN</td>\n",
       "      <td>90.0</td>\n",
       "      <td>...</td>\n",
       "      <td>NaN</td>\n",
       "      <td>NaN</td>\n",
       "      <td>1.0</td>\n",
       "      <td>C</td>\n",
       "      <td>0.0</td>\n",
       "      <td>NaN</td>\n",
       "      <td>NaN</td>\n",
       "      <td>NaN</td>\n",
       "      <td>NaN</td>\n",
       "      <td>NaN</td>\n",
       "    </tr>\n",
       "    <tr>\n",
       "      <th>1</th>\n",
       "      <td>2016</td>\n",
       "      <td>8</td>\n",
       "      <td>22</td>\n",
       "      <td>1</td>\n",
       "      <td>None</td>\n",
       "      <td>18:50:00</td>\n",
       "      <td>None</td>\n",
       "      <td>19:59:00</td>\n",
       "      <td>NaN</td>\n",
       "      <td>69.0</td>\n",
       "      <td>...</td>\n",
       "      <td>NaN</td>\n",
       "      <td>NaN</td>\n",
       "      <td>1.0</td>\n",
       "      <td>B</td>\n",
       "      <td>0.0</td>\n",
       "      <td>NaN</td>\n",
       "      <td>NaN</td>\n",
       "      <td>NaN</td>\n",
       "      <td>NaN</td>\n",
       "      <td>NaN</td>\n",
       "    </tr>\n",
       "    <tr>\n",
       "      <th>2</th>\n",
       "      <td>2018</td>\n",
       "      <td>11</td>\n",
       "      <td>5</td>\n",
       "      <td>1</td>\n",
       "      <td>09:49:00</td>\n",
       "      <td>09:45:00</td>\n",
       "      <td>11:01:00</td>\n",
       "      <td>11:01:00</td>\n",
       "      <td>72.0</td>\n",
       "      <td>76.0</td>\n",
       "      <td>...</td>\n",
       "      <td>7.0</td>\n",
       "      <td>15.0</td>\n",
       "      <td>0.0</td>\n",
       "      <td>None</td>\n",
       "      <td>0.0</td>\n",
       "      <td>NaN</td>\n",
       "      <td>NaN</td>\n",
       "      <td>NaN</td>\n",
       "      <td>NaN</td>\n",
       "      <td>NaN</td>\n",
       "    </tr>\n",
       "    <tr>\n",
       "      <th>3</th>\n",
       "      <td>2016</td>\n",
       "      <td>5</td>\n",
       "      <td>20</td>\n",
       "      <td>5</td>\n",
       "      <td>None</td>\n",
       "      <td>12:31:00</td>\n",
       "      <td>None</td>\n",
       "      <td>13:45:00</td>\n",
       "      <td>NaN</td>\n",
       "      <td>74.0</td>\n",
       "      <td>...</td>\n",
       "      <td>NaN</td>\n",
       "      <td>NaN</td>\n",
       "      <td>1.0</td>\n",
       "      <td>B</td>\n",
       "      <td>0.0</td>\n",
       "      <td>NaN</td>\n",
       "      <td>NaN</td>\n",
       "      <td>NaN</td>\n",
       "      <td>NaN</td>\n",
       "      <td>NaN</td>\n",
       "    </tr>\n",
       "    <tr>\n",
       "      <th>4</th>\n",
       "      <td>2016</td>\n",
       "      <td>9</td>\n",
       "      <td>7</td>\n",
       "      <td>3</td>\n",
       "      <td>16:00:00</td>\n",
       "      <td>16:11:00</td>\n",
       "      <td>18:06:00</td>\n",
       "      <td>18:02:00</td>\n",
       "      <td>126.0</td>\n",
       "      <td>111.0</td>\n",
       "      <td>...</td>\n",
       "      <td>35.0</td>\n",
       "      <td>18.0</td>\n",
       "      <td>0.0</td>\n",
       "      <td>None</td>\n",
       "      <td>0.0</td>\n",
       "      <td>NaN</td>\n",
       "      <td>NaN</td>\n",
       "      <td>NaN</td>\n",
       "      <td>NaN</td>\n",
       "      <td>NaN</td>\n",
       "    </tr>\n",
       "  </tbody>\n",
       "</table>\n",
       "<p>5 rows × 26 columns</p>\n",
       "</div>"
      ],
      "text/plain": [
       "   Year  Month  DayofMonth  DayOfWeek   DepTime CRSDepTime   ArrTime  \\\n",
       "0  2016      1          19          2      None   14:05:00      None   \n",
       "1  2016      8          22          1      None   18:50:00      None   \n",
       "2  2018     11           5          1  09:49:00   09:45:00  11:01:00   \n",
       "3  2016      5          20          5      None   12:31:00      None   \n",
       "4  2016      9           7          3  16:00:00   16:11:00  18:06:00   \n",
       "\n",
       "  CRSArrTime  ActualElapsedTime  CRSElapsedTime  ...  TaxiIn  TaxiOut  \\\n",
       "0   15:35:00                NaN            90.0  ...     NaN      NaN   \n",
       "1   19:59:00                NaN            69.0  ...     NaN      NaN   \n",
       "2   11:01:00               72.0            76.0  ...     7.0     15.0   \n",
       "3   13:45:00                NaN            74.0  ...     NaN      NaN   \n",
       "4   18:02:00              126.0           111.0  ...    35.0     18.0   \n",
       "\n",
       "   Cancelled CancellationCode Diverted  CarrierDelay  WeatherDelay  NASDelay  \\\n",
       "0        1.0                C      0.0           NaN           NaN       NaN   \n",
       "1        1.0                B      0.0           NaN           NaN       NaN   \n",
       "2        0.0             None      0.0           NaN           NaN       NaN   \n",
       "3        1.0                B      0.0           NaN           NaN       NaN   \n",
       "4        0.0             None      0.0           NaN           NaN       NaN   \n",
       "\n",
       "   SecurityDelay LateAircraftDelay  \n",
       "0            NaN               NaN  \n",
       "1            NaN               NaN  \n",
       "2            NaN               NaN  \n",
       "3            NaN               NaN  \n",
       "4            NaN               NaN  \n",
       "\n",
       "[5 rows x 26 columns]"
      ]
     },
     "execution_count": 5,
     "metadata": {},
     "output_type": "execute_result"
    }
   ],
   "source": [
    "df_final.head()"
   ]
  },
  {
   "cell_type": "code",
   "execution_count": 6,
   "id": "621ee2db",
   "metadata": {},
   "outputs": [
    {
     "name": "stdout",
     "output_type": "stream",
     "text": [
      "<class 'pandas.core.frame.DataFrame'>\n",
      "RangeIndex: 18505725 entries, 0 to 18505724\n",
      "Data columns (total 26 columns):\n",
      " #   Column             Dtype  \n",
      "---  ------             -----  \n",
      " 0   Year               int64  \n",
      " 1   Month              int64  \n",
      " 2   DayofMonth         int64  \n",
      " 3   DayOfWeek          int64  \n",
      " 4   DepTime            object \n",
      " 5   CRSDepTime         object \n",
      " 6   ArrTime            object \n",
      " 7   CRSArrTime         object \n",
      " 8   ActualElapsedTime  float64\n",
      " 9   CRSElapsedTime     float64\n",
      " 10  AirTime            float64\n",
      " 11  ArrDelay           float64\n",
      " 12  DepDelay           float64\n",
      " 13  Origin             object \n",
      " 14  Dest               object \n",
      " 15  Distance           float64\n",
      " 16  TaxiIn             float64\n",
      " 17  TaxiOut            float64\n",
      " 18  Cancelled          float64\n",
      " 19  CancellationCode   object \n",
      " 20  Diverted           float64\n",
      " 21  CarrierDelay       float64\n",
      " 22  WeatherDelay       float64\n",
      " 23  NASDelay           float64\n",
      " 24  SecurityDelay      float64\n",
      " 25  LateAircraftDelay  float64\n",
      "dtypes: float64(15), int64(4), object(7)\n",
      "memory usage: 3.6+ GB\n"
     ]
    }
   ],
   "source": [
    "df_final.info()"
   ]
  },
  {
   "cell_type": "code",
   "execution_count": 6,
   "id": "71634ca9",
   "metadata": {},
   "outputs": [
    {
     "name": "stdout",
     "output_type": "stream",
     "text": [
      "<class 'pandas.core.frame.DataFrame'>\n",
      "RangeIndex: 600000 entries, 0 to 599999\n",
      "Data columns (total 26 columns):\n",
      " #   Column             Non-Null Count   Dtype  \n",
      "---  ------             --------------   -----  \n",
      " 0   Year               600000 non-null  int64  \n",
      " 1   Month              600000 non-null  int64  \n",
      " 2   DayofMonth         600000 non-null  int64  \n",
      " 3   DayOfWeek          600000 non-null  int64  \n",
      " 4   DepTime            343879 non-null  object \n",
      " 5   CRSDepTime         600000 non-null  object \n",
      " 6   ArrTime            334586 non-null  object \n",
      " 7   CRSArrTime         599995 non-null  object \n",
      " 8   ActualElapsedTime  334032 non-null  float64\n",
      " 9   CRSElapsedTime     599984 non-null  float64\n",
      " 10  AirTime            334032 non-null  float64\n",
      " 11  ArrDelay           333989 non-null  float64\n",
      " 12  DepDelay           343631 non-null  float64\n",
      " 13  Origin             600000 non-null  object \n",
      " 14  Dest               600000 non-null  object \n",
      " 15  Distance           600000 non-null  float64\n",
      " 16  TaxiIn             334740 non-null  float64\n",
      " 17  TaxiOut            336607 non-null  float64\n",
      " 18  Cancelled          600000 non-null  float64\n",
      " 19  CancellationCode   265138 non-null  object \n",
      " 20  Diverted           600000 non-null  float64\n",
      " 21  CarrierDelay       61162 non-null   float64\n",
      " 22  WeatherDelay       61162 non-null   float64\n",
      " 23  NASDelay           61162 non-null   float64\n",
      " 24  SecurityDelay      61162 non-null   float64\n",
      " 25  LateAircraftDelay  61162 non-null   float64\n",
      "dtypes: float64(15), int64(4), object(7)\n",
      "memory usage: 119.0+ MB\n"
     ]
    }
   ],
   "source": [
    "df_final.info()"
   ]
  },
  {
   "cell_type": "code",
   "execution_count": null,
   "id": "47ce9de3",
   "metadata": {},
   "outputs": [],
   "source": []
  }
 ],
 "metadata": {
  "kernelspec": {
   "display_name": "Python 3",
   "language": "python",
   "name": "python3"
  },
  "language_info": {
   "codemirror_mode": {
    "name": "ipython",
    "version": 3
   },
   "file_extension": ".py",
   "mimetype": "text/x-python",
   "name": "python",
   "nbconvert_exporter": "python",
   "pygments_lexer": "ipython3",
   "version": "3.10.14"
  }
 },
 "nbformat": 4,
 "nbformat_minor": 5
}
